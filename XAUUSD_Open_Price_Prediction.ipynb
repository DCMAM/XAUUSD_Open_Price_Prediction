{
  "nbformat": 4,
  "nbformat_minor": 0,
  "metadata": {
    "colab": {
      "name": "Modul_7",
      "provenance": [],
      "collapsed_sections": []
    },
    "kernelspec": {
      "name": "python3",
      "display_name": "Python 3"
    },
    "language_info": {
      "name": "python"
    }
  },
  "cells": [
    {
      "cell_type": "code",
      "metadata": {
        "id": "xbZvI_-IA6Co"
      },
      "source": [
        "import numpy as pd\n",
        "import pandas as pd\n",
        "from keras.layers import Dense, LSTM\n",
        "import matplotlib.pyplot as plt\n",
        "import tensorflow as tf"
      ],
      "execution_count": null,
      "outputs": []
    },
    {
      "cell_type": "code",
      "metadata": {
        "colab": {
          "base_uri": "https://localhost:8080/",
          "height": 203
        },
        "id": "Bt28QfYrBNUn",
        "outputId": "d301bdca-0f26-40d3-ba66-61d114f03ac6"
      },
      "source": [
        "data_train = pd.read_csv('sample_data/XAUUSD_2020.csv', header=None)\n",
        "data_train.head()"
      ],
      "execution_count": null,
      "outputs": [
        {
          "output_type": "execute_result",
          "data": {
            "text/html": [
              "<div>\n",
              "<style scoped>\n",
              "    .dataframe tbody tr th:only-of-type {\n",
              "        vertical-align: middle;\n",
              "    }\n",
              "\n",
              "    .dataframe tbody tr th {\n",
              "        vertical-align: top;\n",
              "    }\n",
              "\n",
              "    .dataframe thead th {\n",
              "        text-align: right;\n",
              "    }\n",
              "</style>\n",
              "<table border=\"1\" class=\"dataframe\">\n",
              "  <thead>\n",
              "    <tr style=\"text-align: right;\">\n",
              "      <th></th>\n",
              "      <th>0</th>\n",
              "      <th>1</th>\n",
              "      <th>2</th>\n",
              "      <th>3</th>\n",
              "      <th>4</th>\n",
              "      <th>5</th>\n",
              "      <th>6</th>\n",
              "    </tr>\n",
              "  </thead>\n",
              "  <tbody>\n",
              "    <tr>\n",
              "      <th>0</th>\n",
              "      <td>2020.12.16</td>\n",
              "      <td>16:15</td>\n",
              "      <td>1857.07</td>\n",
              "      <td>1857.56</td>\n",
              "      <td>1855.58</td>\n",
              "      <td>1857.06</td>\n",
              "      <td>481</td>\n",
              "    </tr>\n",
              "    <tr>\n",
              "      <th>1</th>\n",
              "      <td>2020.12.16</td>\n",
              "      <td>16:20</td>\n",
              "      <td>1857.00</td>\n",
              "      <td>1858.12</td>\n",
              "      <td>1856.26</td>\n",
              "      <td>1856.62</td>\n",
              "      <td>447</td>\n",
              "    </tr>\n",
              "    <tr>\n",
              "      <th>2</th>\n",
              "      <td>2020.12.16</td>\n",
              "      <td>16:25</td>\n",
              "      <td>1856.68</td>\n",
              "      <td>1856.70</td>\n",
              "      <td>1855.31</td>\n",
              "      <td>1855.94</td>\n",
              "      <td>403</td>\n",
              "    </tr>\n",
              "    <tr>\n",
              "      <th>3</th>\n",
              "      <td>2020.12.16</td>\n",
              "      <td>16:30</td>\n",
              "      <td>1855.93</td>\n",
              "      <td>1858.55</td>\n",
              "      <td>1855.66</td>\n",
              "      <td>1857.59</td>\n",
              "      <td>713</td>\n",
              "    </tr>\n",
              "    <tr>\n",
              "      <th>4</th>\n",
              "      <td>2020.12.16</td>\n",
              "      <td>16:35</td>\n",
              "      <td>1857.63</td>\n",
              "      <td>1858.39</td>\n",
              "      <td>1854.62</td>\n",
              "      <td>1856.30</td>\n",
              "      <td>838</td>\n",
              "    </tr>\n",
              "  </tbody>\n",
              "</table>\n",
              "</div>"
            ],
            "text/plain": [
              "            0      1        2        3        4        5    6\n",
              "0  2020.12.16  16:15  1857.07  1857.56  1855.58  1857.06  481\n",
              "1  2020.12.16  16:20  1857.00  1858.12  1856.26  1856.62  447\n",
              "2  2020.12.16  16:25  1856.68  1856.70  1855.31  1855.94  403\n",
              "3  2020.12.16  16:30  1855.93  1858.55  1855.66  1857.59  713\n",
              "4  2020.12.16  16:35  1857.63  1858.39  1854.62  1856.30  838"
            ]
          },
          "metadata": {},
          "execution_count": 2
        }
      ]
    },
    {
      "cell_type": "code",
      "metadata": {
        "colab": {
          "base_uri": "https://localhost:8080/"
        },
        "id": "vUKW1ptqBoOW",
        "outputId": "53e589c1-8e39-436f-ec0f-172c1b44b2eb"
      },
      "source": [
        "data_train.isnull().sum()"
      ],
      "execution_count": null,
      "outputs": [
        {
          "output_type": "execute_result",
          "data": {
            "text/plain": [
              "0    0\n",
              "1    0\n",
              "2    0\n",
              "3    0\n",
              "4    0\n",
              "5    0\n",
              "6    0\n",
              "dtype: int64"
            ]
          },
          "metadata": {},
          "execution_count": 3
        }
      ]
    },
    {
      "cell_type": "code",
      "metadata": {
        "colab": {
          "base_uri": "https://localhost:8080/",
          "height": 254
        },
        "id": "xvh-v8CMBrGf",
        "outputId": "20ecb9f8-4668-4a45-fedf-a8a82f4a3cc5"
      },
      "source": [
        "dates = data_train[0].values\n",
        "open_price = data_train[2].values\n",
        "\n",
        "plt.figure(figsize=(15, 5))\n",
        "plt.plot(dates, open_price)\n",
        "plt.title('Open Price Hist', fontsize=20);"
      ],
      "execution_count": null,
      "outputs": [
        {
          "output_type": "display_data",
          "data": {
            "image/png": "[encoded data removed]",
            "text/plain": [
              "<Figure size 1080x360 with 1 Axes>"
            ]
          },
          "metadata": {
            "needs_background": "light"
          }
        }
      ]
    },
    {
      "cell_type": "code",
      "metadata": {
        "id": "KWkBAaulPBnf"
      },
      "source": [
        "# Fungsi di bawah menerima sebuah series/atribut kita yang telah di konversi menjadi tipe numpy, lalu mengembalikan label dan atribut dari dataset dalam bentuk batch.\n",
        "\n",
        "def windowed_dataset(series, window_size, batch_size, shuffle_buffer):\n",
        "  series = tf.expand_dims(series, axis=-1)\n",
        "  ds = tf.data.Dataset.from_tensor_slices(series)\n",
        "  ds = ds.window(window_size + 1, shift=1, drop_remainder=True)\n",
        "  ds = ds.flat_map(lambda w: w.batch(window_size + 1))\n",
        "  ds = ds.shuffle(shuffle_buffer)\n",
        "  ds = ds.map(lambda w: (w[:-1], w[-1]))\n",
        "  return ds.batch(batch_size).prefetch(1)"
      ],
      "execution_count": null,
      "outputs": []
    },
    {
      "cell_type": "code",
      "metadata": {
        "id": "a_qo9rp4PyAh"
      },
      "source": [
        "train_set = windowed_dataset(open_price, window_size=60, batch_size=100, shuffle_buffer=1000)\n",
        "\n",
        "model = tf.keras.models.Sequential([\n",
        "  tf.keras.layers.LSTM(60, return_sequences=True),\n",
        "  tf.keras.layers.LSTM(60),\n",
        "  tf.keras.layers.Dense(30, activation=\"relu\"),\n",
        "  tf.keras.layers.Dense(10, activation=\"relu\"),\n",
        "  tf.keras.layers.Dense(1),\n",
        "])"
      ],
      "execution_count": null,
      "outputs": []
    },
    {
      "cell_type": "code",
      "metadata": {
        "colab": {
          "base_uri": "https://localhost:8080/"
        },
        "id": "TL7sxpK8QMZn",
        "outputId": "d18dc761-8fb0-4383-c34b-4e8520088c74"
      },
      "source": [
        "optimizer = tf.keras.optimizers.SGD(lr=1.0000e-04, momentum=0.9)\n",
        "\n",
        "model.compile(loss=tf.keras.losses.Huber(),\n",
        "              optimizer=optimizer,\n",
        "              metrics=[\"mae\"])\n",
        "\n",
        "class myCallback(tf.keras.callbacks.Callback):\n",
        "  def on_epoch_end(self, epoch, logs={}):\n",
        "    if(logs.get('mae') < ((data_train[2].max() - data_train[2].min()) / 10) ):\n",
        "      print(\"\\nMAE dibawah 10%!\")\n",
        "      self.model.stop_training = True\n",
        "callbacks = myCallback()\n",
        "\n",
        "history = model.fit(train_set, epochs=100, callbacks=[callbacks])"
      ],
      "execution_count": null,
      "outputs": [
        {
          "output_type": "stream",
          "text": [
            "/usr/local/lib/python3.7/dist-packages/keras/optimizer_v2/optimizer_v2.py:356: UserWarning: The `lr` argument is deprecated, use `learning_rate` instead.\n",
            "  \"The `lr` argument is deprecated, use `learning_rate` instead.\")\n"
          ],
          "name": "stderr"
        },
        {
          "output_type": "stream",
          "text": [
            "Epoch 1/100\n",
            "147/147 [==============================] - 21s 115ms/step - loss: 1830.8805 - mae: 1831.3805\n",
            "Epoch 2/100\n",
            "147/147 [==============================] - 17s 115ms/step - loss: 1753.6084 - mae: 1754.1085\n",
            "Epoch 3/100\n",
            "147/147 [==============================] - 17s 114ms/step - loss: 134.0757 - mae: 134.5729\n",
            "Epoch 4/100\n",
            "147/147 [==============================] - 17s 115ms/step - loss: 30.6037 - mae: 31.0987\n",
            "Epoch 5/100\n",
            "147/147 [==============================] - 17s 115ms/step - loss: 27.7526 - mae: 28.2475\n",
            "Epoch 6/100\n",
            "147/147 [==============================] - 17s 114ms/step - loss: 30.9241 - mae: 31.4188\n",
            "Epoch 7/100\n",
            "147/147 [==============================] - 17s 116ms/step - loss: 28.7860 - mae: 29.2812\n",
            "Epoch 8/100\n",
            "147/147 [==============================] - 17s 113ms/step - loss: 24.4099 - mae: 24.9042\n",
            "\n",
            "MAE dibawah 10%!\n"
          ],
          "name": "stdout"
        }
      ]
    },
    {
      "cell_type": "code",
      "metadata": {
        "colab": {
          "base_uri": "https://localhost:8080/",
          "height": 295
        },
        "id": "BmHWTDe0UGXX",
        "outputId": "ae3b82dc-6755-4c4c-8ddf-478f7047c1f3"
      },
      "source": [
        "plt.plot(history.history['loss'])\n",
        "plt.title('Model loss')\n",
        "plt.ylabel('Loss')\n",
        "plt.xlabel('Epoch')\n",
        "plt.legend(['Train'], loc='upper right')\n",
        "plt.show()"
      ],
      "execution_count": null,
      "outputs": [
        {
          "output_type": "display_data",
          "data": {
            "image/png": "[encoded data removed]",
            "text/plain": [
              "<Figure size 432x288 with 1 Axes>"
            ]
          },
          "metadata": {
            "needs_background": "light"
          }
        }
      ]
    },
    {
      "cell_type": "code",
      "metadata": {
        "colab": {
          "base_uri": "https://localhost:8080/",
          "height": 295
        },
        "id": "ZjKR6V3eoYIX",
        "outputId": "aa459f4d-6ef1-48e4-829a-732eec57d705"
      },
      "source": [
        "plt.plot(history.history['mae'])\n",
        "plt.title('MAE')\n",
        "plt.ylabel('MAE')\n",
        "plt.xlabel('Epoch')\n",
        "plt.legend(['Train'], loc='upper right')\n",
        "plt.show()"
      ],
      "execution_count": null,
      "outputs": [
        {
          "output_type": "display_data",
          "data": {
            "image/png": "[encoded data removed]",
            "text/plain": [
              "<Figure size 432x288 with 1 Axes>"
            ]
          },
          "metadata": {
            "needs_background": "light"
          }
        }
      ]
    }
  ]
}